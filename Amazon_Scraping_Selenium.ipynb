{
 "cells": [
  {
   "attachments": {},
   "cell_type": "markdown",
   "metadata": {},
   "source": [
    "WEB SCRAPING FROM AMAZON WITH MICROSOFT EDGE GETTING USEFUL INFORMATION AND PREPARING CSV FILE "
   ]
  },
  {
   "attachments": {},
   "cell_type": "markdown",
   "metadata": {},
   "source": [
    "파이썬 라이브러리\n",
    "Python Libraries"
   ]
  },
  {
   "cell_type": "code",
   "execution_count": 80,
   "metadata": {},
   "outputs": [],
   "source": [
    "from selenium import webdriver\n",
    "from bs4 import BeautifulSoup\n",
    "import pandas as pd\n",
    "from selenium import webdriver\n",
    "from selenium.webdriver.edge.service import Service as EdgeService\n",
    "from webdriver_manager.microsoft import EdgeChromiumDriverManager\n",
    "import random\n",
    "import time"
   ]
  },
  {
   "cell_type": "code",
   "execution_count": 81,
   "metadata": {},
   "outputs": [],
   "source": [
    "from IPython.core.interactiveshell import InteractiveShell\n",
    "InteractiveShell.ast_node_interactivity = \"all\""
   ]
  },
  {
   "attachments": {},
   "cell_type": "markdown",
   "metadata": {},
   "source": [
    "프록시를 사용하여 아마존에 의해 블록되지 않도록 하기 위해\n",
    "Using Proxies"
   ]
  },
  {
   "cell_type": "code",
   "execution_count": 82,
   "metadata": {},
   "outputs": [],
   "source": [
    "PROXIES = [\n",
    "'http://118.34.105.254:8080',\n",
    "'http://115.144.99.223:11119',\n",
    "'http://218.158.230.43:7890',\n",
    "'http://121.132.95.7:80',\n",
    "'http://115.144.123.219:10297',\n",
    "'http://121.133.5.61:80',\n",
    "'http://183.109.79.190:80',\n",
    "'http://124.198.11.101:12425',\n",
    "'http://106.244.154.91:8080',\n",
    "'http://59.15.28.113:3128',\n",
    "'http://121.126.200.123:11361',\n",
    "'http://115.144.99.220:11116',\n",
    "'http://115.144.1.222:12089'\n",
    "]\n",
    "\n",
    "random_proxy = random.choice(PROXIES)\n",
    "seleniumwire_options = {\n",
    "    'proxy': {\n",
    "        'http': f'{random_proxy}',\n",
    "        'https': f'{random_proxy}',\n",
    "        'verify_ssl': False,\n",
    "    },\n",
    "}"
   ]
  },
  {
   "attachments": {},
   "cell_type": "markdown",
   "metadata": {},
   "source": [
    "검색어\n",
    "Search Term and Selenium click if asking for cookies permission"
   ]
  },
  {
   "cell_type": "code",
   "execution_count": 83,
   "metadata": {},
   "outputs": [],
   "source": [
    "search_term='Protein'\n",
    "scrape_url=f'https://www.amazon.com/s?k={search_term}'\n",
    "data=[]\n",
    "driver = webdriver.Edge(service=EdgeService(EdgeChromiumDriverManager().install(),seleniumwire_options=seleniumwire_options))\n",
    "\n",
    "\n",
    "\n",
    "driver.get(scrape_url+\"&page=1\")\n",
    "\n",
    "try:\n",
    "    driver.find_element_by_css_selector(\"#sp-c-accpept\").click()\n",
    "except Exception as e:\n",
    "    pass\n"
   ]
  },
  {
   "attachments": {},
   "cell_type": "markdown",
   "metadata": {},
   "source": [
    "마지막 페이지 수 찾기\n",
    "Finding the last page nubmer"
   ]
  },
  {
   "cell_type": "code",
   "execution_count": 84,
   "metadata": {},
   "outputs": [
    {
     "data": {
      "text/plain": [
       "7"
      ]
     },
     "execution_count": 84,
     "metadata": {},
     "output_type": "execute_result"
    }
   ],
   "source": [
    "soup=BeautifulSoup(driver.page_source)\n",
    "pages=soup.find(\"span\",class_=\"s-pagination-strip\").find_all(\"span\")\n",
    "last_page=int(pages[-1].text)\n",
    "last_page"
   ]
  },
  {
   "attachments": {},
   "cell_type": "markdown",
   "metadata": {},
   "source": [
    "웹 스크래핑 (검색된 검색어 가격 제목 및 링크)\n",
    "Web Scraping with Microsoft Edge"
   ]
  },
  {
   "cell_type": "code",
   "execution_count": 85,
   "metadata": {},
   "outputs": [],
   "source": [
    "for i in range(1,last_page+1):\n",
    "     items= soup.find_all(\"div\",class_=\"a-section a-spacing-base\")\n",
    "    \n",
    "     for item in items:\n",
    "        item_price = item.find(\"span\",class_=\"a-offscreen\")\n",
    "        if item_price==None:\n",
    "            item_price='NA'\n",
    "        else:\n",
    "            item_price=item_price.text    \n",
    "        item_title=item.find(\"a\",class_=\"a-link-normal s-underline-text s-underline-link-text s-link-style a-text-normal\").text  \n",
    "        item_url=\"https://www.amazon.com/\"+item.find(\"a\",class_=\"a-link-normal s-underline-text s-underline-link-text s-link-style a-text-normal\")['href']\n",
    "        data.append({\"title\":item_title,\"price\":item_price,\"url\":item_url,'page':i})\n",
    "        #break\n",
    "     driver = webdriver.Edge(service=EdgeService(EdgeChromiumDriverManager().install(),seleniumwire_options=seleniumwire_options))\n",
    "\n",
    "     driver.get(scrape_url+\"&page=\"+str(i+1))    \n",
    "     try:\n",
    "        driver.find_element_by_css_selector(\"#sp-c-accpept\").click()\n",
    "     except Exception as e:\n",
    "         pass\n",
    "     soup=BeautifulSoup(driver.page_source)\n",
    "\n",
    "#item_price        \n",
    "#item_title\n",
    "#item_url"
   ]
  },
  {
   "attachments": {},
   "cell_type": "markdown",
   "metadata": {},
   "source": [
    "데이터 확인 \n",
    "\n",
    "Checking our data"
   ]
  },
  {
   "cell_type": "code",
   "execution_count": 86,
   "metadata": {},
   "outputs": [
    {
     "data": {
      "text/plain": [
       "485"
      ]
     },
     "execution_count": 86,
     "metadata": {},
     "output_type": "execute_result"
    }
   ],
   "source": [
    "len(data)"
   ]
  },
  {
   "cell_type": "code",
   "execution_count": 91,
   "metadata": {},
   "outputs": [
    {
     "data": {
      "text/plain": [
       "{'title': 'Nutricost Whey Protein Concentrate (Unflavored) 2LBS - Gluten Free & Non-GMO ',\n",
       " 'price': '$29.95',\n",
       " 'url': 'https://www.amazon.com//Nutricost-Whey-Protein-Concentrate-Unflavored/dp/B01KITQF0Q/ref=sr_1_260?keywords=Protein&qid=1687427476&sr=8-260',\n",
       " 'page': 4}"
      ]
     },
     "execution_count": 91,
     "metadata": {},
     "output_type": "execute_result"
    }
   ],
   "source": [
    "data[300]"
   ]
  },
  {
   "cell_type": "code",
   "execution_count": 92,
   "metadata": {},
   "outputs": [],
   "source": [
    "df=pd.DataFrame(data)"
   ]
  },
  {
   "cell_type": "code",
   "execution_count": 93,
   "metadata": {},
   "outputs": [
    {
     "data": {
      "text/html": [
       "<div>\n",
       "<style scoped>\n",
       "    .dataframe tbody tr th:only-of-type {\n",
       "        vertical-align: middle;\n",
       "    }\n",
       "\n",
       "    .dataframe tbody tr th {\n",
       "        vertical-align: top;\n",
       "    }\n",
       "\n",
       "    .dataframe thead th {\n",
       "        text-align: right;\n",
       "    }\n",
       "</style>\n",
       "<table border=\"1\" class=\"dataframe\">\n",
       "  <thead>\n",
       "    <tr style=\"text-align: right;\">\n",
       "      <th></th>\n",
       "      <th>title</th>\n",
       "      <th>price</th>\n",
       "      <th>url</th>\n",
       "      <th>page</th>\n",
       "    </tr>\n",
       "  </thead>\n",
       "  <tbody>\n",
       "    <tr>\n",
       "      <th>0</th>\n",
       "      <td>MuscleTech Burn iQ Smart Thermo Supplement Fue...</td>\n",
       "      <td>$59.99</td>\n",
       "      <td>https://www.amazon.com//sspa/click?ie=UTF8&amp;spc...</td>\n",
       "      <td>1</td>\n",
       "    </tr>\n",
       "    <tr>\n",
       "      <th>1</th>\n",
       "      <td>Ensure COMPLETE Nutrition Shake, 30g of Protei...</td>\n",
       "      <td>$69.78</td>\n",
       "      <td>https://www.amazon.com//sspa/click?ie=UTF8&amp;spc...</td>\n",
       "      <td>1</td>\n",
       "    </tr>\n",
       "    <tr>\n",
       "      <th>2</th>\n",
       "      <td>Ascent 100% Whey Protein Powder - Post Workout...</td>\n",
       "      <td>$43.32</td>\n",
       "      <td>https://www.amazon.com//sspa/click?ie=UTF8&amp;spc...</td>\n",
       "      <td>1</td>\n",
       "    </tr>\n",
       "    <tr>\n",
       "      <th>3</th>\n",
       "      <td>EHPlabs OxyWhey Whey Protein Powder Protein Sh...</td>\n",
       "      <td>$44.95</td>\n",
       "      <td>https://www.amazon.com//sspa/click?ie=UTF8&amp;spc...</td>\n",
       "      <td>1</td>\n",
       "    </tr>\n",
       "    <tr>\n",
       "      <th>4</th>\n",
       "      <td>Dymatize ISO100 Hydrolyzed Protein Powder, 100...</td>\n",
       "      <td>$33.39</td>\n",
       "      <td>https://www.amazon.com//Dymatize-Hydrolyzed-Ab...</td>\n",
       "      <td>1</td>\n",
       "    </tr>\n",
       "    <tr>\n",
       "      <th>...</th>\n",
       "      <td>...</td>\n",
       "      <td>...</td>\n",
       "      <td>...</td>\n",
       "      <td>...</td>\n",
       "    </tr>\n",
       "    <tr>\n",
       "      <th>480</th>\n",
       "      <td>Personalized Protein Powder 12.7 Oz.</td>\n",
       "      <td>$47.95</td>\n",
       "      <td>https://www.amazon.com//Personalized-Protein-P...</td>\n",
       "      <td>7</td>\n",
       "    </tr>\n",
       "    <tr>\n",
       "      <th>481</th>\n",
       "      <td>JYM Supplement Science Iso JYM Watermelon, 90 ...</td>\n",
       "      <td>$35.22</td>\n",
       "      <td>https://www.amazon.com//JYM-Watermelon-Calorie...</td>\n",
       "      <td>7</td>\n",
       "    </tr>\n",
       "    <tr>\n",
       "      <th>482</th>\n",
       "      <td>PERFECT Sports Diesel 100% New Zealand Whey Is...</td>\n",
       "      <td>$64.99</td>\n",
       "      <td>https://www.amazon.com//PERFECT-SPORTS-Zealand...</td>\n",
       "      <td>7</td>\n",
       "    </tr>\n",
       "    <tr>\n",
       "      <th>483</th>\n",
       "      <td>NOW Sports Nutrition, Certified Organic Whey P...</td>\n",
       "      <td>NA</td>\n",
       "      <td>https://www.amazon.com//Sports-Nutrition-Organ...</td>\n",
       "      <td>7</td>\n",
       "    </tr>\n",
       "    <tr>\n",
       "      <th>484</th>\n",
       "      <td>TB12 Vanilla Protein Powder, 1.12 OZ Each, 12 ...</td>\n",
       "      <td>$45.64</td>\n",
       "      <td>https://www.amazon.com//TB12-Protein-Powder-Va...</td>\n",
       "      <td>7</td>\n",
       "    </tr>\n",
       "  </tbody>\n",
       "</table>\n",
       "<p>485 rows × 4 columns</p>\n",
       "</div>"
      ],
      "text/plain": [
       "                                                 title   price  \\\n",
       "0    MuscleTech Burn iQ Smart Thermo Supplement Fue...  $59.99   \n",
       "1    Ensure COMPLETE Nutrition Shake, 30g of Protei...  $69.78   \n",
       "2    Ascent 100% Whey Protein Powder - Post Workout...  $43.32   \n",
       "3    EHPlabs OxyWhey Whey Protein Powder Protein Sh...  $44.95   \n",
       "4    Dymatize ISO100 Hydrolyzed Protein Powder, 100...  $33.39   \n",
       "..                                                 ...     ...   \n",
       "480              Personalized Protein Powder 12.7 Oz.   $47.95   \n",
       "481  JYM Supplement Science Iso JYM Watermelon, 90 ...  $35.22   \n",
       "482  PERFECT Sports Diesel 100% New Zealand Whey Is...  $64.99   \n",
       "483  NOW Sports Nutrition, Certified Organic Whey P...      NA   \n",
       "484  TB12 Vanilla Protein Powder, 1.12 OZ Each, 12 ...  $45.64   \n",
       "\n",
       "                                                   url  page  \n",
       "0    https://www.amazon.com//sspa/click?ie=UTF8&spc...     1  \n",
       "1    https://www.amazon.com//sspa/click?ie=UTF8&spc...     1  \n",
       "2    https://www.amazon.com//sspa/click?ie=UTF8&spc...     1  \n",
       "3    https://www.amazon.com//sspa/click?ie=UTF8&spc...     1  \n",
       "4    https://www.amazon.com//Dymatize-Hydrolyzed-Ab...     1  \n",
       "..                                                 ...   ...  \n",
       "480  https://www.amazon.com//Personalized-Protein-P...     7  \n",
       "481  https://www.amazon.com//JYM-Watermelon-Calorie...     7  \n",
       "482  https://www.amazon.com//PERFECT-SPORTS-Zealand...     7  \n",
       "483  https://www.amazon.com//Sports-Nutrition-Organ...     7  \n",
       "484  https://www.amazon.com//TB12-Protein-Powder-Va...     7  \n",
       "\n",
       "[485 rows x 4 columns]"
      ]
     },
     "execution_count": 93,
     "metadata": {},
     "output_type": "execute_result"
    }
   ],
   "source": [
    "df"
   ]
  },
  {
   "attachments": {},
   "cell_type": "markdown",
   "metadata": {},
   "source": [
    "CSV 만들기\n",
    "Creating a CSV"
   ]
  },
  {
   "cell_type": "code",
   "execution_count": 94,
   "metadata": {},
   "outputs": [],
   "source": [
    "df.to_csv(f'./amazon-scraped-keyword{search_term}.csv',index=False)"
   ]
  },
  {
   "attachments": {},
   "cell_type": "markdown",
   "metadata": {},
   "source": [
    "중복된 값이 있는지 확인하기\n",
    "\n",
    "Checking if there's any duplicate values\n"
   ]
  },
  {
   "cell_type": "code",
   "execution_count": 99,
   "metadata": {},
   "outputs": [
    {
     "data": {
      "text/plain": [
       "0"
      ]
     },
     "execution_count": 99,
     "metadata": {},
     "output_type": "execute_result"
    }
   ],
   "source": [
    "df.duplicated().sum()"
   ]
  }
 ],
 "metadata": {
  "kernelspec": {
   "display_name": "Python 3",
   "language": "python",
   "name": "python3"
  },
  "language_info": {
   "codemirror_mode": {
    "name": "ipython",
    "version": 3
   },
   "file_extension": ".py",
   "mimetype": "text/x-python",
   "name": "python",
   "nbconvert_exporter": "python",
   "pygments_lexer": "ipython3",
   "version": "3.11.2"
  },
  "orig_nbformat": 4
 },
 "nbformat": 4,
 "nbformat_minor": 2
}
